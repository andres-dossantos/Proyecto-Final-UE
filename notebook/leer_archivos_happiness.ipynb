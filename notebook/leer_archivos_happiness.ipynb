{
 "cells": [
  {
   "cell_type": "code",
   "execution_count": null,
   "metadata": {},
   "outputs": [
    {
     "name": "stdout",
     "output_type": "stream",
     "text": [
      "Consolidación completa. Los datos consolidados se han guardado en consolidado_happiness_v2.csv.\n"
     ]
    }
   ],
   "source": [
    "import os\n",
    "import pandas as pd\n",
    "import json\n",
    "\n",
    "# Define la ruta de la carpeta y el archivo JSON\n",
    "folder_path = 'Datos/Happiness'\n",
    "json_path = 'data_country.json'\n",
    "\n",
    "# Define los mapeos de columnas\n",
    "column_mappings = {\n",
    "    'Country': ['Country', 'Country or region','Country name'],\n",
    "    'Rank': ['Happiness Rank', 'Overall rank', 'Happiness.Rank','Rank'],\n",
    "    'Score': ['Happiness Score', 'Score', 'Happiness.Score','Ladder score','Happiness score'],\n",
    "    'GDP per capita': ['Economy (GDP per Capita)', 'Economy..GDP.per.Capita.', 'GDP per capita','Logged GDP per capita','Explained by: GDP per capita'],\n",
    "    'Family': ['Family', 'Social support','Explained by: Social support'],\n",
    "    'Health (Life Expectancy)': ['Health (Life Expectancy)', 'Health..Life.Expectancy.', 'Healthy life expectancy','Explained by: Healthy life expectancy'],\n",
    "    'Freedom': ['Freedom', 'Freedom to make life choices','Explained by: Freedom to make life choices'],\n",
    "    'Perceptions of corruption': ['Trust (Government Corruption)', 'Trust..Government.Corruption.', 'Perceptions of corruption','Explained by: Perceptions of corruption'],\n",
    "    'Generosity': ['Generosity','Explained by: Generosity']\n",
    "}\n",
    "\n",
    "# Crear un diccionario inverso para los nombres alternativos\n",
    "alternate_names_to_official = {}\n",
    "with open(json_path, 'r', encoding='utf-8') as file:\n",
    "    data_country = json.load(file)\n",
    "    for country, info in data_country.items():\n",
    "        for alt_name in info.get('AlternateNames', []):\n",
    "            alternate_names_to_official[alt_name] = country\n",
    "\n",
    "# Función para estandarizar los nombres de las columnas y eliminar las no deseadas\n",
    "def standardize_columns(df):\n",
    "    standardized_columns = {}\n",
    "    for standard_col, possible_cols in column_mappings.items():\n",
    "        for col in possible_cols:\n",
    "            if col in df.columns:\n",
    "                standardized_columns[col] = standard_col\n",
    "                break\n",
    "    df = df.rename(columns=standardized_columns)\n",
    "    # Eliminar columnas que no están en los mapeos\n",
    "    columns_to_keep = list(standardized_columns.values())\n",
    "    df = df[columns_to_keep]\n",
    "    return df\n",
    "\n",
    "# Lista para almacenar los dataframes\n",
    "dataframes = []\n",
    "\n",
    "# DataFrame consolidado inicial\n",
    "consolidated_df = pd.DataFrame()\n",
    "\n",
    "# Iterar sobre los archivos en la carpeta\n",
    "for filename in os.listdir(folder_path):\n",
    "    if filename.startswith('Happiness') and filename.endswith('.csv'):\n",
    "        # Extraer el año del nombre del archivo\n",
    "        year = int(''.join(filter(str.isdigit, filename)))\n",
    "        \n",
    "        # Leer el archivo CSV\n",
    "        file_path = os.path.join(folder_path, filename)\n",
    "        df = pd.read_csv(file_path)\n",
    "        \n",
    "        # Eliminar filas vacías\n",
    "        df.dropna(how='all', inplace=True)\n",
    "        \n",
    "        # Estandarizar las columnas y eliminar las no deseadas\n",
    "        df = standardize_columns(df)\n",
    "        \n",
    "        # Asegurarse de que la columna Rank sea un entero\n",
    "        if 'Rank' in df.columns:\n",
    "            df['Rank'] = df['Rank'].astype(int)\n",
    "        else:\n",
    "            df['Rank'] = range(1, len(df) + 1)\n",
    "        \n",
    "        # Asegurarse de que los valores de 'Country' sean cadenas y manejar valores nulos\n",
    "        df['Country'] = df['Country'].astype(str).fillna('')\n",
    "        \n",
    "        # Reemplazar nombres alternativos por nombres oficiales\n",
    "        df['Country'] = df['Country'].apply(lambda x: alternate_names_to_official.get(x, x))\n",
    "        \n",
    "        # Filtrar las filas basadas en el archivo JSON\n",
    "        df = df[df['Country'].isin(data_country)]\n",
    "        \n",
    "        # Redondear las columnas numéricas a 3 dígitos si existen\n",
    "        numeric_columns = ['Rank', 'Score', 'GDP per capita', 'Family', \n",
    "                           'Health (Life Expectancy)', 'Freedom', \n",
    "                           'Perceptions of corruption', 'Generosity']\n",
    "        for col in numeric_columns:\n",
    "            if col in df.columns:\n",
    "                df[col] = df[col].apply(lambda x: round(x, 3) if isinstance(x, (int, float)) else x)\n",
    "        \n",
    "        # Renombrar las columnas para incluir el año\n",
    "        df = df.rename(columns={col: f\"{col} ({year})\" for col in df.columns if col != 'Country'})\n",
    "        \n",
    "        # Si el DataFrame consolidado está vacío, inicializarlo con el primer DataFrame\n",
    "        if consolidated_df.empty:\n",
    "            consolidated_df = df.set_index('Country')\n",
    "        else:\n",
    "            # Alinear los datos del nuevo DataFrame con el DataFrame consolidado\n",
    "            df = df.set_index('Country')\n",
    "            consolidated_df = consolidated_df.join(df, how='outer')\n",
    "        \n",
    "# Ordenar el DataFrame combinado por el nombre de la columna \"Country\"\n",
    "consolidated_df.sort_values(by=['Country'], inplace=True)\n",
    "\n",
    "# Guardar el dataframe consolidado en un nuevo archivo CSV\n",
    "consolidated_df.to_csv('consolidado_happiness_v2.csv')\n",
    "\n",
    "print(\"Consolidación completa. Los datos consolidados se han guardado en consolidado_happiness_v2.csv.\")"
   ]
  },
  {
   "cell_type": "code",
   "execution_count": 93,
   "metadata": {},
   "outputs": [
    {
     "name": "stdout",
     "output_type": "stream",
     "text": [
      "Directorio actual: c:\\Users\\ProjectSupport\\Documents\\David\\Cursos\\Master Data Science\\Proyecto\n"
     ]
    }
   ],
   "source": [
    "# Verificar el directorio actual de trabajo\n",
    "current_directory = os.getcwd()\n",
    "print(f\"Directorio actual: {current_directory}\")"
   ]
  }
 ],
 "metadata": {
  "kernelspec": {
   "display_name": ".venv",
   "language": "python",
   "name": "python3"
  },
  "language_info": {
   "codemirror_mode": {
    "name": "ipython",
    "version": 3
   },
   "file_extension": ".py",
   "mimetype": "text/x-python",
   "name": "python",
   "nbconvert_exporter": "python",
   "pygments_lexer": "ipython3",
   "version": "3.12.4"
  }
 },
 "nbformat": 4,
 "nbformat_minor": 2
}
